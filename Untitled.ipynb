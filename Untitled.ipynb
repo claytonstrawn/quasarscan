{
 "cells": [
  {
   "cell_type": "code",
   "execution_count": null,
   "metadata": {},
   "outputs": [],
   "source": [
    "from multi_quasar_sphere_plotter import MultiQuasarSpherePlotter,sort_ions\n",
    "import numpy as np\n",
    "mq = None"
   ]
  },
  {
   "cell_type": "code",
   "execution_count": null,
   "metadata": {},
   "outputs": [],
   "source": [
    "if not mq:\n",
    "    mq = MultiQuasarSpherePlotter()\n",
    "else:\n",
    "    mq.reset_current_Quasar_Array()\n",
    "mq.constrain_current_Quasar_Array(\"version\",\"v2.0\",exploration_mode = False)\n",
    "mq.constrain_current_Quasar_Array(\"redshift\",[0.9,1.6],exploration_mode=True)"
   ]
  },
  {
   "cell_type": "code",
   "execution_count": null,
   "metadata": {},
   "outputs": [],
   "source": [
    "labels, toplot = mq.sort_by(\"sfr\",10.0**np.arange(-1,3),exploration_mode = False)"
   ]
  },
  {
   "cell_type": "code",
   "execution_count": null,
   "metadata": {},
   "outputs": [],
   "source": [
    "mq.ploterr_one_galaxy_param(\"O VI\",toplot,xVar = \"rdivR>0\",labels = labels,save_fig = True)"
   ]
  },
  {
   "cell_type": "code",
   "execution_count": null,
   "metadata": {
    "scrolled": false
   },
   "outputs": [],
   "source": [
    "allions = list(mq.currentQuasarArray[0].ions)\n",
    "\n",
    "currentions = sort_ions(allions,flat = False)\n",
    "print currentions\n",
    "\n",
    "for lst in currentions:\n",
    "    if len(lst) > 1:\n",
    "        mq.ploterr_zero_galaxy_param(lst,xVar = \"rdivR>0\",save_fig=True)"
   ]
  },
  {
   "cell_type": "code",
   "execution_count": null,
   "metadata": {},
   "outputs": [],
   "source": [
    "mq.ploterr_one_galaxy_param(\"O VI\",toplot,xVar = \"r>0\",labels = labels, save_fig=True)"
   ]
  },
  {
   "cell_type": "code",
   "execution_count": null,
   "metadata": {
    "scrolled": false
   },
   "outputs": [],
   "source": [
    "for ion in [\"N II\",\"O II\",\"S II\",\"Mg II\",\"Mg X\",\"O VI\"]:\n",
    "    mq.ploterr_one_galaxy_param(ion,toplot,xVar = \"rdivR>0\",labels = labels,save_fig=True)"
   ]
  },
  {
   "cell_type": "code",
   "execution_count": null,
   "metadata": {},
   "outputs": [],
   "source": [
    "mq.ploterr_one_galaxy_param(\"H I\",toplot,xVar = \"rdivR\",labels = labels,save_fig=True)"
   ]
  },
  {
   "cell_type": "code",
   "execution_count": null,
   "metadata": {},
   "outputs": [],
   "source": [
    "b = np.empty(3,dtype = 'object')\n",
    "b[1] = mq\n",
    "c = np.empty(2,dtype = 'object')\n",
    "d = np.empty(3,dtype = 'object')"
   ]
  },
  {
   "cell_type": "code",
   "execution_count": null,
   "metadata": {},
   "outputs": [],
   "source": [
    "ions = mq.currentQuasarArray[0].ions\n",
    "\n",
    "def sort_ions(ions,flat = True):\n",
    "    from trident import from_roman,to_roman\n",
    "    def sort_ions_one_element(ions,element):\n",
    "        from trident import from_roman,to_roman\n",
    "        nums = [None]*len(ions)\n",
    "        toreturn = []\n",
    "        for i in range(len(ions)):\n",
    "            nums[i] = from_roman(ions[i].split(\" \")[1])\n",
    "        nums.sort()\n",
    "        for val in nums:\n",
    "            toreturn.append(\"%s %s\"%(element,to_roman(val)))\n",
    "        return toreturn\n",
    "    ions = list(ions)\n",
    "    ions.sort()\n",
    "    index = 0\n",
    "    element = ions[index].split(\" \")[0]\n",
    "    tosort = []\n",
    "    toreturn = []\n",
    "    while index < len(ions):\n",
    "        if ions[index].split(\" \")[0] == element:\n",
    "            tosort.append(ions[index])\n",
    "            index += 1\n",
    "        else:\n",
    "            toreturn.append(sort_ions_one_element(tosort,element))\n",
    "            element = ions[index].split(\" \")[0]\n",
    "            tosort = []\n",
    "    toreturn.append(sort_ions_one_element(tosort,element))\n",
    "    if flat:\n",
    "        toreturn = [item for sublist in toreturn for item in sublist]\n",
    "    return toreturn\n",
    "print ions\n",
    "print sort_ions(ions)"
   ]
  },
  {
   "cell_type": "code",
   "execution_count": null,
   "metadata": {},
   "outputs": [],
   "source": [
    "np.all(a.size())"
   ]
  },
  {
   "cell_type": "code",
   "execution_count": null,
   "metadata": {},
   "outputs": [],
   "source": [
    "a = np.array([[3]])\n",
    "a"
   ]
  },
  {
   "cell_type": "code",
   "execution_count": null,
   "metadata": {},
   "outputs": [],
   "source": [
    "np.concatenate(a)"
   ]
  },
  {
   "cell_type": "code",
   "execution_count": null,
   "metadata": {},
   "outputs": [],
   "source": [
    "type(a)"
   ]
  },
  {
   "cell_type": "code",
   "execution_count": null,
   "metadata": {},
   "outputs": [],
   "source": [
    "isinstance(a,np.ndarray)"
   ]
  },
  {
   "cell_type": "code",
   "execution_count": 3,
   "metadata": {},
   "outputs": [
    {
     "name": "stderr",
     "output_type": "stream",
     "text": [
      "yt : [INFO     ] 2018-07-25 22:13:01,999 discovered particle_data:/global/homes/c/cstrawn/VELA_v2_17/PMcrs0a0.200.DAT\n",
      "yt : [INFO     ] 2018-07-25 22:13:02,001 discovered particle_header:/global/homes/c/cstrawn/VELA_v2_17/PMcrda0.200.DAT\n",
      "yt : [INFO     ] 2018-07-25 22:13:02,004 discovered particle_stars:/global/homes/c/cstrawn/VELA_v2_17/stars_a0.200.dat\n",
      "yt : [INFO     ] 2018-07-25 22:13:02,029 Using root level of 13\n",
      "yt : [INFO     ] 2018-07-25 22:13:02,031 Discovered 6 species of particles\n",
      "yt : [INFO     ] 2018-07-25 22:13:02,033 Particle populations:  32923648   2515968    362624     52656   2071952   1992461 \n",
      "yt : [INFO     ] 2018-07-25 22:13:02,280 Max level is 11\n",
      "yt : [INFO     ] 2018-07-25 22:13:02,308 Parameters: current_time              = 1.5985683301548264 Gyr\n",
      "yt : [INFO     ] 2018-07-25 22:13:02,310 Parameters: domain_dimensions         = [128 128 128]\n",
      "yt : [INFO     ] 2018-07-25 22:13:02,312 Parameters: domain_left_edge          = [0. 0. 0.]\n",
      "yt : [INFO     ] 2018-07-25 22:13:02,314 Parameters: domain_right_edge         = [1. 1. 1.]\n",
      "yt : [INFO     ] 2018-07-25 22:13:02,316 Parameters: cosmological_simulation   = True\n",
      "yt : [INFO     ] 2018-07-25 22:13:02,317 Parameters: current_redshift          = 3.9975186241\n",
      "yt : [INFO     ] 2018-07-25 22:13:02,319 Parameters: omega_lambda              = 0.730000019073\n",
      "yt : [INFO     ] 2018-07-25 22:13:02,321 Parameters: omega_matter              = 0.270000010729\n",
      "yt : [INFO     ] 2018-07-25 22:13:02,323 Parameters: hubble_constant           = 0.699999988079\n"
     ]
    }
   ],
   "source": [
    "import yt\n",
    "ds = yt.load('~/VELA_v2_17/10MpcBox_csf512_a0.200.d')"
   ]
  },
  {
   "cell_type": "code",
   "execution_count": 5,
   "metadata": {},
   "outputs": [
    {
     "name": "stderr",
     "output_type": "stream",
     "text": [
      "yt : [INFO     ] 2018-07-25 22:14:26,886 Max Value is 1.89975e-20 at 0.5213756561279297 0.5594806671142578 0.4694652557373047\n"
     ]
    },
    {
     "data": {
      "text/plain": [
       "(1.8997451052325255e-20 g/cm**3,\n",
       " YTArray([0.52137566, 0.55948067, 0.46946526]) code_length)"
      ]
     },
     "execution_count": 5,
     "metadata": {},
     "output_type": "execute_result"
    }
   ],
   "source": [
    "ds.find_max(\"density\")"
   ]
  },
  {
   "cell_type": "code",
   "execution_count": 6,
   "metadata": {
    "scrolled": false
   },
   "outputs": [
    {
     "data": {
      "text/plain": [
       "['__class__',\n",
       " '__delattr__',\n",
       " '__dict__',\n",
       " '__doc__',\n",
       " '__format__',\n",
       " '__getattribute__',\n",
       " '__getitem__',\n",
       " '__hash__',\n",
       " '__init__',\n",
       " '__iter__',\n",
       " '__module__',\n",
       " '__new__',\n",
       " '__reduce__',\n",
       " '__reduce_ex__',\n",
       " '__repr__',\n",
       " '__setattr__',\n",
       " '__sizeof__',\n",
       " '__str__',\n",
       " '__subclasshook__',\n",
       " '__weakref__',\n",
       " '_add_object_class',\n",
       " '_arr',\n",
       " '_assign_unit_system',\n",
       " '_checksum',\n",
       " '_create_unit_registry',\n",
       " '_field_info_class',\n",
       " '_fields_in_file',\n",
       " '_file_amr',\n",
       " '_file_particle_data',\n",
       " '_file_particle_header',\n",
       " '_file_particle_stars',\n",
       " '_find_files',\n",
       " '_get_field_info',\n",
       " '_guess_candidates',\n",
       " '_hash',\n",
       " '_index_class',\n",
       " '_index_proxy',\n",
       " '_instantiated',\n",
       " '_instantiated_index',\n",
       " '_is_valid',\n",
       " '_last_finfo',\n",
       " '_last_freq',\n",
       " '_max_level',\n",
       " '_mrep',\n",
       " '_override_code_units',\n",
       " '_parse_parameter_file',\n",
       " '_particle_type_counts',\n",
       " '_quan',\n",
       " '_set_code_unit_attributes',\n",
       " '_set_derived_attrs',\n",
       " '_setup_classes',\n",
       " '_setup_coordinate_handler',\n",
       " '_setup_filtered_type',\n",
       " '_setup_particle_type',\n",
       " '_setup_particle_types',\n",
       " '_skip_cache',\n",
       " 'add_deposited_particle_field',\n",
       " 'add_field',\n",
       " 'add_gradient_fields',\n",
       " 'add_particle_filter',\n",
       " 'add_particle_union',\n",
       " 'add_smoothed_particle_field',\n",
       " 'all_data',\n",
       " 'arbitrary_grid',\n",
       " 'arr',\n",
       " 'backup_filename',\n",
       " 'basename',\n",
       " 'bool',\n",
       " 'box',\n",
       " 'checksum',\n",
       " 'child_grid_offset',\n",
       " 'close',\n",
       " 'conversion_factors',\n",
       " 'coordinates',\n",
       " 'cosmological_simulation',\n",
       " 'cosmology',\n",
       " 'covering_grid',\n",
       " 'create_field_info',\n",
       " 'critical_density',\n",
       " 'current_redshift',\n",
       " 'current_time',\n",
       " 'cut_region',\n",
       " 'cutting',\n",
       " 'data_collection',\n",
       " 'dataset_type',\n",
       " 'default_field',\n",
       " 'default_fluid_type',\n",
       " 'define_unit',\n",
       " 'derived_field_list',\n",
       " 'dimensionality',\n",
       " 'directory',\n",
       " 'disk',\n",
       " 'domain_center',\n",
       " 'domain_dimensions',\n",
       " 'domain_left_edge',\n",
       " 'domain_right_edge',\n",
       " 'domain_width',\n",
       " 'ellipsoid',\n",
       " 'field_dependencies',\n",
       " 'field_info',\n",
       " 'field_list',\n",
       " 'field_units',\n",
       " 'fields',\n",
       " 'file_style',\n",
       " 'filtered_particle_types',\n",
       " 'find_field_values_at_point',\n",
       " 'find_field_values_at_points',\n",
       " 'find_max',\n",
       " 'find_min',\n",
       " 'fluid_types',\n",
       " 'force_max_level',\n",
       " 'fullpath',\n",
       " 'gamma',\n",
       " 'geometry',\n",
       " 'get_smallest_appropriate_unit',\n",
       " 'get_unit_from_registry',\n",
       " 'h',\n",
       " 'halo',\n",
       " 'has_key',\n",
       " 'hierarchy',\n",
       " 'hub_upload',\n",
       " 'hubble_constant',\n",
       " 'hubble_time',\n",
       " 'iOctFree',\n",
       " 'index',\n",
       " 'intersection',\n",
       " 'ires_factor',\n",
       " 'known_filters',\n",
       " 'length_unit',\n",
       " 'limit_level',\n",
       " 'mass_unit',\n",
       " 'max_level',\n",
       " 'min_level',\n",
       " 'nOct',\n",
       " 'ncell',\n",
       " 'nhydro_variables',\n",
       " 'no_cgs_equiv_length',\n",
       " 'object_types',\n",
       " 'objects',\n",
       " 'omega_lambda',\n",
       " 'omega_matter',\n",
       " 'ortho_ray',\n",
       " 'parameter_filename',\n",
       " 'parameters',\n",
       " 'parameters_particles',\n",
       " 'particle_fields_by_type',\n",
       " 'particle_type_counts',\n",
       " 'particle_types',\n",
       " 'particle_types_raw',\n",
       " 'particle_unions',\n",
       " 'particles_exist',\n",
       " 'periodicity',\n",
       " 'plots',\n",
       " 'point',\n",
       " 'print_key_parameters',\n",
       " 'print_stats',\n",
       " 'proj',\n",
       " 'quan',\n",
       " 'r',\n",
       " 'ray',\n",
       " 'read_from_backup',\n",
       " 'refine_by',\n",
       " 'region',\n",
       " 'region_expression',\n",
       " 'relative_refinement',\n",
       " 'root_grid_mask_offset',\n",
       " 'root_grid_offset',\n",
       " 'root_iOctCh',\n",
       " 'root_level',\n",
       " 'root_ncells',\n",
       " 'root_nhvar',\n",
       " 'root_nocts',\n",
       " 'root_nvar',\n",
       " 'scale_factor',\n",
       " 'set_code_units',\n",
       " 'set_units',\n",
       " 'setup_deprecated_fields',\n",
       " 'skip_particles',\n",
       " 'skip_stars',\n",
       " 'slice',\n",
       " 'smoothed_covering_grid',\n",
       " 'sphere',\n",
       " 'spread_age',\n",
       " 'star_type',\n",
       " 'storage_filename',\n",
       " 'streamline',\n",
       " 'surface',\n",
       " 'time_unit',\n",
       " 'union',\n",
       " 'unique_identifier',\n",
       " 'unit_registry',\n",
       " 'unit_system',\n",
       " 'units_override',\n",
       " 'velocity_unit']"
      ]
     },
     "execution_count": 6,
     "metadata": {},
     "output_type": "execute_result"
    }
   ],
   "source": [
    "dir(ds)"
   ]
  },
  {
   "cell_type": "code",
   "execution_count": 14,
   "metadata": {},
   "outputs": [
    {
     "data": {
      "text/plain": [
       "5717.12307788854 kpc"
      ]
     },
     "execution_count": 14,
     "metadata": {},
     "output_type": "execute_result"
    }
   ],
   "source": [
    "ds.length_unit.in_units(\"kpc\")"
   ]
  },
  {
   "cell_type": "code",
   "execution_count": null,
   "metadata": {},
   "outputs": [],
   "source": []
  }
 ],
 "metadata": {
  "kernelspec": {
   "display_name": "Python [conda env:myenv]",
   "language": "python",
   "name": "conda-env-myenv-py"
  },
  "language_info": {
   "codemirror_mode": {
    "name": "ipython",
    "version": 2
   },
   "file_extension": ".py",
   "mimetype": "text/x-python",
   "name": "python",
   "nbconvert_exporter": "python",
   "pygments_lexer": "ipython2",
   "version": "2.7.15"
  }
 },
 "nbformat": 4,
 "nbformat_minor": 2
}
