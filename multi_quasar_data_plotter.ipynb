{
 "cells": [
  {
   "cell_type": "code",
   "execution_count": null,
   "metadata": {},
   "outputs": [],
   "source": [
    "import numpy as np\n",
    "import trident\n",
    "import yt\n",
    "import os\n",
    "import sys\n",
    "from multiprocessing import Pool,current_process,cpu_count\n",
    "import itertools\n",
    "import logging\n",
    "import matplotlib.pyplot as plt\n",
    "from quasar_scan import *\n",
    "from parse_vela_metadata import Rdict, Ldict"
   ]
  },
  {
   "cell_type": "code",
   "execution_count": 4,
   "metadata": {},
   "outputs": [],
   "source": [
    "class Multi_Quasar_Sphere_Analyzer(QuasarSphere):\n",
    "    #either load all quasar spheres, load by VELA_SIM, or load by redshift\n",
    "    #def _init_(self, loadAll = False, VELA_SIM = \"\", redshift = -1):\n",
    "    \n",
    "    def _init_(self):\n",
    "        pass\n",
    "        \n",
    "    def graph_by_rVir(q1):\n",
    "        x = np.linspace(0,scanparams[4],scanparams[3])\n",
    "        print(x)\n",
    "        y = []\n",
    "    \n",
    "        \n",
    "    #def graph_by_VELA_galaxy():\n",
    "        \n",
    "    #def graph_by_redshift():\n",
    "        \n",
    "        \n"
   ]
  },
  {
   "cell_type": "markdown",
   "metadata": {},
   "source": [
    "\n",
    "\n",
    "qMany = Multi_Quasar_Sphere_Analyzer()\n",
    "\n",
    "continuedfilename = '/global/homes/b/bryanw/quasarscan/output/VELA_v2_01coldensinfo/406_of_400-_OVI_NeVIII_HI_CIII_OIV_NIII_MgII_OV_OIII_NIV_MgX_NV_SIV_OII_SIII_SII_SV_SVI_NII_z0.99.txt'\n",
    "simparams,scanparams,ions,data = read_values(continuedfilename)\n",
    "\n",
    "q = QuasarSphere(simparams = simparams,scanparams = scanparams,ions = ions ,data = data, readOnly = True)\n",
    "\n",
    "qMany.graph_by_rVir(q)\n"
   ]
  },
  {
   "cell_type": "code",
   "execution_count": null,
   "metadata": {},
   "outputs": [],
   "source": [
    "from quasar_scan import *\n",
    "from parse_vela_metadata import Rdict, Ldict\n",
    "\n",
    "dataset = '/global/homes/b/bryanw/VELA05v2/10MpcBox_csf512_a0.500.d'\n",
    "\n",
    "sim_name = \"VELA_v2_05\"\n",
    "aExpansion = '0.500'\n",
    "\n",
    "#use the function to get L and Rvir\n",
    "\n",
    "#Rvir = float(Rdict[\"VELA27\"][\"0.200\"])\n",
    "#Lstr = Ldict[\"VELA27\"][\"0.200\"]\n",
    "#L = np.zeros(3)\n",
    "#for i in 0, 1, 2:\n",
    "#    L[i] = float(Lstr[i])\n",
    "    \n",
    "Rvir, L = get_vela_metadata(sim_name, aExpansion)\n",
    "\n",
    "dictionary = parse_vela_metadata.dict_of_vela_info(\"Rvir\",iarr = np.arange(1,35))\n",
    "\n",
    "### THIS IS THE VERSION WITHOUT L\n",
    "#rvir = float(dictionary[sim_name][aExpansion])\n",
    "#q = QuasarSphere(ions = '[O VI, Ne VIII, H I, C III, O IV, N III, Mg II, O V, O III, N IV, Mg X, N V, S IV, O II, S III, S II, S V, S VI, N II]', simname = sim_name, dspath = ds, Rvir = rvir)\n",
    "### THIS IS THE VERSION WITH L \n",
    "q = Multi_Quasar_Sphere_Analyzer(ions = '[O VI, Ne VIII, H I, C III, O IV, N III, Mg II, O V, O III, N IV, Mg X, N V, S IV, O II, S III, S II, S V, S VI, N II]', simname = sim_name, dspath = dataset, Rvir = Rvir, L = L)\n",
    "\n"
   ]
  },
  {
   "cell_type": "code",
   "execution_count": 8,
   "metadata": {},
   "outputs": [
    {
     "ename": "UnboundLocalError",
     "evalue": "local variable 'convert' referenced before assignment",
     "output_type": "error",
     "traceback": [
      "\u001b[0;31m\u001b[0m",
      "\u001b[0;31mUnboundLocalError\u001b[0mTraceback (most recent call last)",
      "\u001b[0;32m<ipython-input-8-688ca7086cab>\u001b[0m in \u001b[0;36m<module>\u001b[0;34m()\u001b[0m\n\u001b[0;32m----> 1\u001b[0;31m \u001b[0mqmany\u001b[0m \u001b[0;34m=\u001b[0m \u001b[0mMulti_Quasar_Sphere_Analyzer\u001b[0m\u001b[0;34m(\u001b[0m\u001b[0;34m)\u001b[0m\u001b[0;34m\u001b[0m\u001b[0m\n\u001b[0m",
      "\u001b[0;32m/global/u1/b/bryanw/quasarscan/quasar_scan.pyc\u001b[0m in \u001b[0;36m__init__\u001b[0;34m(self, ions, simname, dspath, data, simparams, scanparams, Rvir, L, ytlevel, readonly)\u001b[0m\n\u001b[1;32m    115\u001b[0m             \u001b[0mself\u001b[0m\u001b[0;34m.\u001b[0m\u001b[0msimparams\u001b[0m\u001b[0;34m[\u001b[0m\u001b[0;36m8\u001b[0m\u001b[0;34m]\u001b[0m  \u001b[0;34m=\u001b[0m \u001b[0mL\u001b[0m\u001b[0;34m[\u001b[0m\u001b[0;36m1\u001b[0m\u001b[0;34m]\u001b[0m\u001b[0;34m\u001b[0m\u001b[0m\n\u001b[1;32m    116\u001b[0m             \u001b[0mself\u001b[0m\u001b[0;34m.\u001b[0m\u001b[0msimparams\u001b[0m\u001b[0;34m[\u001b[0m\u001b[0;36m9\u001b[0m\u001b[0;34m]\u001b[0m  \u001b[0;34m=\u001b[0m \u001b[0mL\u001b[0m\u001b[0;34m[\u001b[0m\u001b[0;36m2\u001b[0m\u001b[0;34m]\u001b[0m\u001b[0;34m\u001b[0m\u001b[0m\n\u001b[0;32m--> 117\u001b[0;31m             \u001b[0mself\u001b[0m\u001b[0;34m.\u001b[0m\u001b[0msimparams\u001b[0m\u001b[0;34m[\u001b[0m\u001b[0;36m10\u001b[0m\u001b[0;34m]\u001b[0m \u001b[0;34m=\u001b[0m \u001b[0mconvert\u001b[0m\u001b[0;34m\u001b[0m\u001b[0m\n\u001b[0m\u001b[1;32m    118\u001b[0m         \u001b[0;32melse\u001b[0m\u001b[0;34m:\u001b[0m\u001b[0;34m\u001b[0m\u001b[0m\n\u001b[1;32m    119\u001b[0m             \u001b[0mself\u001b[0m\u001b[0;34m.\u001b[0m\u001b[0msimparams\u001b[0m \u001b[0;34m=\u001b[0m \u001b[0msimparams\u001b[0m\u001b[0;34m\u001b[0m\u001b[0m\n",
      "\u001b[0;31mUnboundLocalError\u001b[0m: local variable 'convert' referenced before assignment"
     ]
    }
   ],
   "source": [
    "qmany = Multi_Quasar_Sphere_Analyzer()"
   ]
  },
  {
   "cell_type": "code",
   "execution_count": null,
   "metadata": {},
   "outputs": [],
   "source": []
  },
  {
   "cell_type": "code",
   "execution_count": null,
   "metadata": {},
   "outputs": [],
   "source": []
  }
 ],
 "metadata": {
  "kernelspec": {
   "display_name": "Python [conda env:myenv]",
   "language": "python",
   "name": "conda-env-myenv-py"
  },
  "language_info": {
   "codemirror_mode": {
    "name": "ipython",
    "version": 2
   },
   "file_extension": ".py",
   "mimetype": "text/x-python",
   "name": "python",
   "nbconvert_exporter": "python",
   "pygments_lexer": "ipython2",
   "version": "2.7.15"
  }
 },
 "nbformat": 4,
 "nbformat_minor": 2
}
