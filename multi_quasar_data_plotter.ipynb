{
 "cells": [
  {
   "cell_type": "code",
   "execution_count": null,
   "metadata": {},
   "outputs": [],
   "source": [
    "import numpy as np\n",
    "import trident\n",
    "import yt\n",
    "import os\n",
    "import sys\n",
    "from multiprocessing import Pool,current_process,cpu_count\n",
    "import itertools\n",
    "import logging"
   ]
  },
  {
   "cell_type": "code",
   "execution_count": null,
   "metadata": {},
   "outputs": [],
   "source": [
    "class Multi_Quasar_Sphere_Analyzer(object):\n",
    "    #either load all quasar spheres, load by VELA_SIM, or load by redshift\n",
    "    def _init_(self, loadAll = False, VELA_SIM = \"\", redshift = -1):\n",
    "    \n",
    "    def graph_by_VELA_galaxy():\n",
    "        \n",
    "    def graph_by_redshift():\n"
   ]
  }
 ],
 "metadata": {
  "kernelspec": {
   "display_name": "Python [conda env:myenv]",
   "language": "python",
   "name": "conda-env-myenv-py"
  },
  "language_info": {
   "codemirror_mode": {
    "name": "ipython",
    "version": 2
   },
   "file_extension": ".py",
   "mimetype": "text/x-python",
   "name": "python",
   "nbconvert_exporter": "python",
   "pygments_lexer": "ipython2",
   "version": "2.7.15"
  }
 },
 "nbformat": 4,
 "nbformat_minor": 2
}
