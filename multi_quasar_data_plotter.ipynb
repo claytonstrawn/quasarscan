{
 "cells": [
  {
   "cell_type": "code",
   "execution_count": 1,
   "metadata": {},
   "outputs": [],
   "source": [
    "import numpy as np\n",
    "import trident\n",
    "import yt\n",
    "import os\n",
    "import sys\n",
    "import matplotlib.pyplot as plt\n",
    "from quasar_scan import *\n",
    "from parse_vela_metadata import Rdict, Ldict"
   ]
  },
  {
   "cell_type": "code",
   "execution_count": 22,
   "metadata": {},
   "outputs": [],
   "source": [
    "class MultiQuasarSphereAnalyzer():\n",
    "    #either load all quasar spheres, load by VELA_SIM, or load by redshift\n",
    "    #def _init_(self, loadAll = False, VELA_SIM = \"\", redshift = -1):\n",
    "    \n",
    "    def __init__(self, textfiles):\n",
    "        self.quasarLineup = []\n",
    "        for textfile in textfiles:\n",
    "            simparams,scanparams,ions,data = read_values(textfile)\n",
    "            q = QuasarSphere(simparams = simparams,scanparams = scanparams,ions = ions,data = data)\n",
    "            self.quasarLineup.append(q)\n",
    "        print self.quasarLineup\n",
    "\n",
    "        \n",
    "    def plot_error_bars(self, quasarLineupIndex, ion, xVar = \"r\"):\n",
    "        q = self.quasarLineup[quasarLineupIndex]\n",
    "\n",
    "        #list of all possibles Rs, with no repeats\n",
    "        allRadii = q.info[:, 3]\n",
    "        x = np.unique(allRadii)\n",
    "\n",
    "        #list of column density AVERAGES corresponding to the respective r\n",
    "        y = np.zeros(len(x))\n",
    "        yerr = np.zeros(len(x))\n",
    "\n",
    "        allRadii = q.info[:, 3]\n",
    "        \n",
    "        ionIndex = -1\n",
    "        for index in range(len(q.ions)):\n",
    "            if q.ions[index] == ion:\n",
    "                ionIndex = index\n",
    "        print ionIndex\n",
    "        if ionIndex == -1:\n",
    "            print (\"Ion not found. Bruhhh.\")\n",
    "        \n",
    "        allColdens = q.info[:,11 + ionIndex] \n",
    "\n",
    "\n",
    "        #loops to find column density (y) mean and +/- error\n",
    "        for index in range(len(x)):\n",
    "\n",
    "            yTemp = allColdens[allRadii == x[index]]\n",
    "            print x[index]\n",
    "            logYTemp = np.log10(yTemp)\n",
    "\n",
    "            #finds mean at given r \n",
    "            avg = np.mean(logYTemp)\n",
    "            y[index] = avg\n",
    "\n",
    "            stdev = np.std(logYTemp)\n",
    "            yerr[index] = stdev / np.sqrt(len(logYTemp)-1)\n",
    "\n",
    "\n",
    "        plt.figure()\n",
    "        fig, axs = plt.subplots(1, sharex=True)\n",
    "\n",
    "        #axs.errorbar(x[1:], y[1:], yerr=yerr[1:], fmt='.')\n",
    "        axs.errorbar(x, y, yerr=yerr, fmt='.')\n",
    "        axs.set_title('%s Column Density Averages vs Radius' %ion)\n",
    "        \n",
    "        \n",
    "\n",
    "\n",
    "    \n",
    "        \n",
    "    #def graph_by_VELA_galaxy():\n",
    "        \n",
    "    #def graph_by_redshift():\n",
    "        \n",
    "        \n"
   ]
  },
  {
   "cell_type": "code",
   "execution_count": 24,
   "metadata": {},
   "outputs": [
    {
     "name": "stdout",
     "output_type": "stream",
     "text": [
      "[<quasar_scan.QuasarSphere object at 0x2ad985c27810>]\n",
      "0\n",
      "0.00236151213\n",
      "0.00472302425\n",
      "0.00708453638\n",
      "0.00944604851\n",
      "0.0118075606\n",
      "0.0141690728\n",
      "0.0165305849\n",
      "0.018892097\n",
      "0.0212536091\n",
      "0.0236151213\n",
      "0.0259766334\n"
     ]
    },
    {
     "data": {
      "text/plain": [
       "<Figure size 432x288 with 0 Axes>"
      ]
     },
     "metadata": {},
     "output_type": "display_data"
    },
    {
     "data": {
      "image/png": "[encoded data removed]",
      "text/plain": [
       "<Figure size 432x288 with 1 Axes>"
      ]
     },
     "metadata": {},
     "output_type": "display_data"
    }
   ],
   "source": [
    "textfile = ['/global/homes/b/bryanw/quasarscan/output/VELA_v2_01coldensinfo/406_of_400-_OVI_NeVIII_HI_CIII_OIV_NIII_MgII_OV_OIII_NIV_MgX_NV_SIV_OII_SIII_SII_SV_SVI_NII_z0.99.txt']\n",
    "q = MultiQuasarSphereAnalyzer(textfile)\n",
    "\n",
    "q. plot_error_bars(0, \"O VI\")"
   ]
  },
  {
   "cell_type": "code",
   "execution_count": null,
   "metadata": {},
   "outputs": [],
   "source": []
  },
  {
   "cell_type": "code",
   "execution_count": null,
   "metadata": {},
   "outputs": [],
   "source": []
  }
 ],
 "metadata": {
  "kernelspec": {
   "display_name": "Python [conda env:myenv]",
   "language": "python",
   "name": "conda-env-myenv-py"
  },
  "language_info": {
   "codemirror_mode": {
    "name": "ipython",
    "version": 2
   },
   "file_extension": ".py",
   "mimetype": "text/x-python",
   "name": "python",
   "nbconvert_exporter": "python",
   "pygments_lexer": "ipython2",
   "version": "2.7.15"
  }
 },
 "nbformat": 4,
 "nbformat_minor": 2
}
